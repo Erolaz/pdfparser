{
 "cells": [
  {
   "cell_type": "code",
   "execution_count": 1,
   "metadata": {},
   "outputs": [],
   "source": [
    "import pdfplumber\n",
    "import re\n",
    "from PyPDF2 import PdfReader\n",
    "from tqdm import tqdm"
   ]
  },
  {
   "cell_type": "code",
   "execution_count": 2,
   "metadata": {},
   "outputs": [
    {
     "name": "stdout",
     "output_type": "stream",
     "text": [
      "Requirement already satisfied: pycryptodome in ./venv/lib/python3.10/site-packages (3.21.0)\n",
      "Note: you may need to restart the kernel to use updated packages.\n"
     ]
    }
   ],
   "source": [
    "%pip install pycryptodome"
   ]
  },
  {
   "cell_type": "code",
   "execution_count": 3,
   "metadata": {},
   "outputs": [],
   "source": [
    "def remove_first_line(text):\n",
    "    return text[text.find('\\n') + 1:]"
   ]
  },
  {
   "cell_type": "code",
   "execution_count": 4,
   "metadata": {},
   "outputs": [],
   "source": [
    "def extract_text_pdfplumber(pdf_path):\n",
    "    full_text = []\n",
    "\n",
    "    with pdfplumber.open(pdf_path) as pdf:\n",
    "        for i, page in enumerate(pdf.pages):\n",
    "            text = page.extract_text()\n",
    "            \n",
    "            if not text:\n",
    "                continue\n",
    "\n",
    "            text = remove_first_line(text) # верхний колонтитул\n",
    "\n",
    "            # text = re.sub(r\"\\bГЛАВА\\s?\\d+\\b\", \"\", text, flags=re.IGNORECASE)\n",
    "\n",
    "            text = re.sub(r\"Рис.\\s?\\d+.\\d+.\", \"\", text, flags=re.IGNORECASE) # подписи к рисункам\n",
    "            \n",
    "            # text = re.sub(r\"^\\d+$\", \"\", text, flags=re.MULTILINE)\n",
    "\n",
    "            full_text.append(text)\n",
    "    \n",
    "    return \"\\n\\n\".join(full_text)"
   ]
  },
  {
   "cell_type": "code",
   "execution_count": 5,
   "metadata": {},
   "outputs": [],
   "source": [
    "def extract_text_pypdf2(pdf_path):\n",
    "    full_text = []\n",
    "\n",
    "    reader = PdfReader(pdf_path)\n",
    "\n",
    "    for page_num in range(len(reader.pages)):\n",
    "        page = reader.pages[page_num]\n",
    "        \n",
    "        text = page.extract_text()\n",
    "\n",
    "        if not text:\n",
    "            continue\n",
    "\n",
    "        text = remove_first_line(text)\n",
    "\n",
    "        text = re.sub(r\"Рис.\\s?\\d+.\\d+.\", \"\", text, flags=re.IGNORECASE)  \n",
    "        \n",
    "        full_text.append(text)\n",
    "\n",
    "   \n",
    "    return \"\\n\\n\".join(full_text)"
   ]
  },
  {
   "cell_type": "code",
   "execution_count": 6,
   "metadata": {},
   "outputs": [],
   "source": [
    "def extract_text_pypdf2_ind_pages(pdf_path, output_dir = \"output\", pdf_name = \"pdf\"):\n",
    "\n",
    "    reader = PdfReader(pdf_path)\n",
    "\n",
    "    for page_num in tqdm(range(len(reader.pages))):\n",
    "        page = reader.pages[page_num]\n",
    "        \n",
    "        text = page.extract_text()\n",
    "\n",
    "        if not text:\n",
    "            continue\n",
    "\n",
    "        text = remove_first_line(text)\n",
    "\n",
    "        text = re.sub(r\"Рис.\\s?\\d+.\\d+.\", \"\", text, flags=re.IGNORECASE)  \n",
    "        \n",
    "        with open(f\"{output_dir}/{pdf_name}_page_{page_num}.txt\",\n",
    "                  \"w\", encoding=\"utf-8\") as f:\n",
    "            f.write(text)\n",
    "\n",
    "   \n",
    "    print(f\"Done parsing. Results in {output_dir}\")"
   ]
  },
  {
   "cell_type": "code",
   "execution_count": 7,
   "metadata": {},
   "outputs": [],
   "source": [
    "small_pdf_path = \"data/LakeIV_B-100-105.pdf\"\n",
    "big_pdf_path = \"orig_data/LakeIV_B.pdf\""
   ]
  },
  {
   "cell_type": "code",
   "execution_count": 8,
   "metadata": {},
   "outputs": [],
   "source": [
    "extracted_text_pdfplumber = extract_text_pdfplumber(small_pdf_path)\n",
    "\n",
    "extracted_text_pypdf2 = extract_text_pypdf2(small_pdf_path)\n",
    "\n",
    "# print(extracted_text_pypdf2[:5000])\n",
    "\n"
   ]
  },
  {
   "cell_type": "code",
   "execution_count": 9,
   "metadata": {},
   "outputs": [],
   "source": [
    "pdf_path = big_pdf_path"
   ]
  },
  {
   "cell_type": "code",
   "execution_count": 11,
   "metadata": {},
   "outputs": [
    {
     "name": "stderr",
     "output_type": "stream",
     "text": [
      "100%|██████████| 1232/1232 [00:48<00:00, 25.46it/s]"
     ]
    },
    {
     "name": "stdout",
     "output_type": "stream",
     "text": [
      "Done parsing. Results in full_file\n"
     ]
    },
    {
     "name": "stderr",
     "output_type": "stream",
     "text": [
      "\n"
     ]
    }
   ],
   "source": [
    "extract_text_pypdf2_ind_pages(pdf_path=pdf_path, output_dir=\"full_file\" )"
   ]
  },
  {
   "cell_type": "code",
   "execution_count": 84,
   "metadata": {},
   "outputs": [],
   "source": [
    "pdf_name = pdf_path.split(\".\")[0]\n",
    "\n",
    "with open(f\"outputs/{pdf_name}_pypdf2.txt\", \"w\", encoding=\"utf-8\") as f:\n",
    "    f.write(extracted_text_pypdf2)\n",
    "\n",
    "with open(f\"outputs/{pdf_name}_pdfplumber.txt\", \"w\", encoding=\"utf-8\") as f:\n",
    "    f.write(extracted_text_pdfplumber)"
   ]
  }
 ],
 "metadata": {
  "kernelspec": {
   "display_name": "venv",
   "language": "python",
   "name": "python3"
  },
  "language_info": {
   "codemirror_mode": {
    "name": "ipython",
    "version": 3
   },
   "file_extension": ".py",
   "mimetype": "text/x-python",
   "name": "python",
   "nbconvert_exporter": "python",
   "pygments_lexer": "ipython3",
   "version": "3.10.11"
  }
 },
 "nbformat": 4,
 "nbformat_minor": 2
}
